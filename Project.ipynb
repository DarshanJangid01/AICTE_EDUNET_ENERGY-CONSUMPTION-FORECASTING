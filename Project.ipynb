{
 "cells": [
  {
   "cell_type": "markdown",
   "id": "73fe4d28",
   "metadata": {},
   "source": [
    "ENERGY CONSUMPTION FORECASTING\n",
    "\n",
    "The goal of this project is to develop a predictive model that accurately forecasts household electricity consumption using historical data. By analyzing patterns in electricity usage, we aim to identify trends, seasonal variations, and potential anomalies in energy consumption.\n",
    "\n",
    "Forecasting household energy consumption helps utility providers optimize power distribution, reduces energy waste, and supports sustainable energy management.\n",
    "\n",
    "Objective:\n",
    "\n",
    "Predict future household energy usage based on historical consumption data.\n",
    "\n",
    "Evaluate forecasting models (ARIMA, Prophet, LSTM) for accuracy.\n",
    "\n"
   ]
  },
  {
   "cell_type": "code",
   "execution_count": null,
   "id": "0c89ea5a",
   "metadata": {},
   "outputs": [],
   "source": [
    "#  Import all libraries\n",
    "\n",
    "\n",
    "import pandas as pd\n",
    "import numpy as np\n",
    "\n",
    "import matplotlib.pyplot as plt\n",
    "import seaborn as sns\n",
    "\n",
    "from statsmodels.tsa.arima.model import ARIMA\n",
    "from statsmodels.tsa.seasonal import seasonal_decompose\n",
    "from prophet import Prophet\n",
    "\n",
    "from sklearn.model_selection import train_test_split\n",
    "\n",
    "import warnings\n",
    "warnings.filterwarnings(\"ignore\")\n"
   ]
  },
  {
   "cell_type": "markdown",
   "id": "ad3c80e3",
   "metadata": {},
   "source": [
    "Dataset:\n",
    "\n",
    "Source: UCI Machine Learning Repository – Individual Household Electric Power Consumption\n",
    "\n",
    "Time Range: December 2006 – November 2010\n",
    "\n",
    "Frequency: Minute-level measurements\n",
    "\n",
    "Key Features:\n",
    "\n",
    "Global Active Power (kilowatts) – target variable\n",
    "\n",
    "Global Reactive Power\n",
    "\n",
    "Voltage\n",
    "\n",
    "Global Intensity\n",
    "\n",
    "Sub-metering values (1, 2, 3)"
   ]
  },
  {
   "cell_type": "code",
   "execution_count": null,
   "id": "dd91c53b",
   "metadata": {},
   "outputs": [],
   "source": [
    "# Load dataset\n",
    "data = pd.read_csv(\"household_power_consumption.txt\", sep=';', parse_dates={'Datetime': ['Date', 'Time']}, \n",
    "                   infer_datetime_format=True, low_memory=False, na_values=['?'])\n",
    "\n",
    "# Check shape & info\n",
    "print(\"Shape:\", data.shape)\n",
    "print(data.info())\n",
    "data.head()\n"
   ]
  },
  {
   "cell_type": "code",
   "execution_count": null,
   "id": "f4cf26c0",
   "metadata": {},
   "outputs": [],
   "source": [
    "# Missing values\n",
    "print(data.isnull().sum())\n",
    "\n",
    "# Convert columns to numeric\n",
    "cols = data.columns.drop('Datetime')\n",
    "data[cols] = data[cols].apply(pd.to_numeric, errors='coerce')\n",
    "\n",
    "# Fill missing values (forward fill)\n",
    "data.fillna(method='ffill', inplace=True)\n",
    "\n",
    "# Plot global active power\n",
    "plt.figure(figsize=(15,5))\n",
    "plt.plot(data['Datetime'], data['Global_active_power'])\n",
    "plt.title(\"Global Active Power over Time\")\n",
    "plt.xlabel(\"Time\")\n",
    "plt.ylabel(\"Global Active Power (kilowatts)\")\n",
    "plt.show()\n"
   ]
  },
  {
   "cell_type": "code",
   "execution_count": null,
   "id": "42272dda",
   "metadata": {},
   "outputs": [],
   "source": [
    "# Set datetime as index\n",
    "data.set_index('Datetime', inplace=True)\n",
    "\n",
    "# Resample to daily mean\n",
    "daily_data = data['Global_active_power'].resample('D').mean()\n",
    "\n",
    "# Optional: log transform\n",
    "daily_data_log = np.log(daily_data)\n"
   ]
  },
  {
   "cell_type": "code",
   "execution_count": null,
   "id": "02415ff7",
   "metadata": {},
   "outputs": [],
   "source": [
    "# Train-test split (80%-20%)\n",
    "train_size = int(len(daily_data_log) * 0.8)\n",
    "train = daily_data_log[:train_size]\n",
    "test = daily_data_log[train_size:]\n",
    "\n",
    "print(\"Training set size:\", train.shape)\n",
    "print(\"Testing set size:\", test.shape)\n"
   ]
  }
 ],
 "metadata": {
  "kernelspec": {
   "display_name": "Python 3",
   "language": "python",
   "name": "python3"
  },
  "language_info": {
   "codemirror_mode": {
    "name": "ipython",
    "version": 3
   },
   "file_extension": ".py",
   "mimetype": "text/x-python",
   "name": "python",
   "nbconvert_exporter": "python",
   "pygments_lexer": "ipython3",
   "version": "3.12.10"
  }
 },
 "nbformat": 4,
 "nbformat_minor": 5
}
