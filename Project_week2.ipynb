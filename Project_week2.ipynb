{
 "cells": [
  {
   "cell_type": "markdown",
   "id": "73fe4d28",
   "metadata": {},
   "source": [
    "ENERGY CONSUMPTION FORECASTING\n",
    "\n",
    "The goal of this project is to develop a machine learning model that can forecast \n",
    "household electricity consumption. Accurate consumption forecasting is essential \n",
    "for optimizing energy production, managing demand, and supporting sustainability efforts.\n",
    "\n",
    "In Week 1, we defined the problem and explored the dataset.  \n",
    "We initially experimented with a statistical baseline model (ARIMA).  \n",
    "\n",
    "For Week 2, we transition to a **Random Forest Regressor**, which better captures \n",
    "non-linear patterns and allows us to include calendar-based features alongside lagged values.\n",
    "\n",
    "\n"
   ]
  },
  {
   "cell_type": "code",
   "execution_count": null,
   "id": "0c89ea5a",
   "metadata": {},
   "outputs": [],
   "source": [
    "#  Import all libraries\n",
    "\n",
    "import pandas as pd\n",
    "import numpy as np\n",
    "\n",
    "import matplotlib.pyplot as plt\n",
    "import seaborn as sns\n",
    "\n",
    "from sklearn.ensemble import RandomForestRegressor\n",
    "from sklearn.model_selection import train_test_split\n",
    "from sklearn.metrics import mean_squared_error, mean_absolute_error\n",
    "\n",
    "import warnings\n",
    "warnings.filterwarnings(\"ignore\")\n"
   ]
  },
  {
   "cell_type": "markdown",
   "id": "ad3c80e3",
   "metadata": {},
   "source": [
    "Dataset:\n",
    "\n",
    "Source: UCI Machine Learning Repository – Individual Household Electric Power Consumption\n",
    "\n",
    "Time Range: December 2006 – November 2010\n",
    "\n",
    "Frequency: Minute-level measurements\n",
    "\n",
    "Key Features:\n",
    "\n",
    "Global Active Power (kilowatts)\n",
    "\n",
    "Global Reactive Power\n",
    "\n",
    "Voltage\n",
    "\n",
    "Global Intensity\n",
    "\n",
    "Sub-metering values (1, 2, 3)"
   ]
  },
  {
   "cell_type": "code",
   "execution_count": null,
   "id": "dd91c53b",
   "metadata": {},
   "outputs": [],
   "source": [
    "# Load dataset\n",
    "data = pd.read_csv(\"household_power_consumption.txt\",\n",
    "                    sep=';',\n",
    "                    parse_dates={'Datetime': ['Date', 'Time']}, \n",
    "                    infer_datetime_format=True,\n",
    "                    low_memory=False,\n",
    "                    na_values=['?'])\n",
    "\n",
    "# Check shape & info\n",
    "print(\"Shape:\", data.shape)\n",
    "print(data.info())\n",
    "data.head()\n"
   ]
  },
  {
   "cell_type": "code",
   "execution_count": null,
   "id": "f4cf26c0",
   "metadata": {},
   "outputs": [],
   "source": [
    "# Keep datetime as index\n",
    "data = data.set_index('Datetime')\n",
    "\n",
    "# Focus on one key variable\n",
    "data['Global_active_power'] = pd.to_numeric(data['Global_active_power'], errors='coerce')\n",
    "\n",
    "# Drop missing values\n",
    "data = data.dropna(subset=['Global_active_power'])\n",
    "\n",
    "# Resample to hourly data (to reduce noise and computation)\n",
    "data = data.resample('H').mean()\n",
    "\n",
    "data.head()"
   ]
  },
  {
   "cell_type": "code",
   "execution_count": null,
   "id": "b7e0b408",
   "metadata": {},
   "outputs": [],
   "source": [
    "# Summary statistics\n",
    "print(data['Global_active_power'].describe())\n",
    "\n",
    "# Plot consumption over time (sample)\n",
    "plt.figure(figsize=(12,5))\n",
    "data['Global_active_power'][:1000].plot()\n",
    "plt.title(\"Household Global Active Power (first 1000 hours)\")\n",
    "plt.ylabel(\"kW\")\n",
    "plt.show()\n",
    "\n",
    "# Distribution\n",
    "plt.figure(figsize=(6,4))\n",
    "sns.histplot(data['Global_active_power'], bins=50, kde=True)\n",
    "plt.title(\"Distribution of Global Active Power\")\n",
    "plt.show()\n"
   ]
  },
  {
   "cell_type": "markdown",
   "id": "20d94c33",
   "metadata": {},
   "source": [
    "Model Selection\n",
    "\n",
    "In Week 1, we explored the dataset and established the problem definition.  \n",
    "At that stage, we experimented with a classical time-series approach (ARIMA) as a baseline model.  \n",
    "\n",
    "For Week 2, we decided to transition from ARIMA to a Random Forest Regressor.  \n",
    "This change is motivated by the following considerations:\n",
    "\n",
    "- Flexibility: ARIMA relies on strict assumptions about seasonality and stationarity, while Random Forest can handle more complex, non-linear relationships in the data.\n",
    "\n",
    "- Feature usage: Random Forest allows us to incorporate not only lagged consumption values but also calendar features (hour, weekday, month), which are highly relevant for electricity demand.  \n",
    " \n",
    "Therefore, the Random Forest Regressor was selected as the Week 2 model for forecasting household energy consumption.  \n"
   ]
  },
  {
   "cell_type": "markdown",
   "id": "9a1f4776",
   "metadata": {},
   "source": [
    "Model Implementation\n",
    "\n",
    "We first create new features from the dataset:  \n",
    "- Calendar features: hour, day, month, weekday.  \n",
    "- Lag feature: previous hour’s energy consumption.  \n",
    "\n",
    "These features help the model learn temporal patterns in energy demand.  \n",
    "We then train a Random Forest Regressor using 80% of the data and evaluate on the remaining 20%.  \n"
   ]
  },
  {
   "cell_type": "code",
   "execution_count": null,
   "id": "42272dda",
   "metadata": {},
   "outputs": [],
   "source": [
    "# Feature engineering\n",
    "data = data.copy()\n",
    "data['hour'] = data.index.hour\n",
    "data['day'] = data.index.day\n",
    "data['month'] = data.index.month\n",
    "data['weekday'] = data.index.weekday\n",
    "data['lag1'] = data['Global_active_power'].shift(1)\n",
    "\n",
    "data = data.dropna()\n",
    "\n",
    "# Features and target\n",
    "X = data[['hour','day','month','weekday','lag1']]\n",
    "y = data['Global_active_power']\n",
    "\n",
    "# Train-test split (time-based)\n",
    "X_train, X_test, y_train, y_test = train_test_split(\n",
    "    X, y, test_size=0.2, shuffle=False\n",
    ")\n",
    "\n",
    "# Model training\n",
    "rf = RandomForestRegressor(n_estimators=100, random_state=42)\n",
    "rf.fit(X_train, y_train)\n",
    "\n",
    "# Predictions\n",
    "y_pred = rf.predict(X_test)\n"
   ]
  },
  {
   "cell_type": "markdown",
   "id": "440e71d5",
   "metadata": {},
   "source": [
    "Model Evaluation\n",
    "\n",
    "The Random Forest Regressor is evaluated using Mean Absolute Error (MAE)\n",
    "and Root Mean Squared Error (RMSE), which measure the prediction accuracy.  \n",
    "\n",
    "- MAE indicates the average absolute difference between predicted and actual consumption.  \n",
    "- RMSE penalizes larger errors more strongly, providing a stricter measure of accuracy.  \n",
    "\n",
    "Additionally, we visualize the comparison between actual and predicted values to assess model performance qualitatively.  \n"
   ]
  },
  {
   "cell_type": "code",
   "execution_count": null,
   "id": "02415ff7",
   "metadata": {},
   "outputs": [],
   "source": [
    "# Evaluation metrics\n",
    "mae = mean_absolute_error(y_test, y_pred)\n",
    "rmse = np.sqrt(mean_squared_error(y_test, y_pred))\n",
    "\n",
    "print(\"MAE:\", mae)\n",
    "print(\"RMSE:\", rmse)\n",
    "\n",
    "# Plot actual vs predicted\n",
    "plt.figure(figsize=(12,6))\n",
    "plt.plot(y_test.values[:200], label=\"Actual\", linewidth=2)\n",
    "plt.plot(y_pred[:200], label=\"Predicted\", linewidth=2)\n",
    "plt.legend()\n",
    "plt.title(\"Random Forest: Actual vs Predicted (sample 200 points)\")\n",
    "plt.show()\n"
   ]
  },
  {
   "cell_type": "code",
   "execution_count": null,
   "id": "9b979e0f",
   "metadata": {},
   "outputs": [],
   "source": [
    "# 🔑 Feature Importance from Random Forest\n",
    "importances = rf.feature_importances_\n",
    "features = X.columns\n",
    "\n",
    "# Plot feature importances\n",
    "plt.figure(figsize=(8,5))\n",
    "sns.barplot(x=importances, y=features, palette=\"viridis\")\n",
    "plt.title(\"Feature Importance (Random Forest)\")\n",
    "plt.xlabel(\"Importance\")\n",
    "plt.ylabel(\"Feature\")\n",
    "plt.show()"
   ]
  }
 ],
 "metadata": {
  "kernelspec": {
   "display_name": "gpu_env",
   "language": "python",
   "name": "python3"
  },
  "language_info": {
   "codemirror_mode": {
    "name": "ipython",
    "version": 3
   },
   "file_extension": ".py",
   "mimetype": "text/x-python",
   "name": "python",
   "nbconvert_exporter": "python",
   "pygments_lexer": "ipython3",
   "version": "3.12.10"
  }
 },
 "nbformat": 4,
 "nbformat_minor": 5
}
